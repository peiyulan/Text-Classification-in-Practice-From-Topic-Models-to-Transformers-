{
  "nbformat": 4,
  "nbformat_minor": 0,
  "metadata": {
    "colab": {
      "provenance": [],
      "toc_visible": true
    },
    "kernelspec": {
      "name": "python3",
      "display_name": "Python 3"
    },
    "language_info": {
      "name": "python"
    }
  },
  "cells": [
    {
      "cell_type": "markdown",
      "source": [
        "\n",
        "# **Text Classification: Topic Modeling LDA​**\n"
      ],
      "metadata": {
        "id": "5LAarKZlJZBi"
      }
    },
    {
      "cell_type": "markdown",
      "source": [
        "## Overview\n",
        "\n",
        "This course ?????\n",
        "\n",
        "We will learn the ????? through the following activities:\n",
        "\n",
        "- Activity 1:\n",
        "- Activity 2:"
      ],
      "metadata": {
        "id": "3hm6uw_UaSGQ"
      }
    },
    {
      "cell_type": "markdown",
      "source": [
        "\n",
        "\n",
        "---\n",
        "\n"
      ],
      "metadata": {
        "id": "OgyNjtzloQ1m"
      }
    },
    {
      "cell_type": "markdown",
      "source": [
        "# **Overview of Latent Dirichlet Allocation (LDA)**"
      ],
      "metadata": {
        "id": "2sH-oL7VMt40"
      }
    },
    {
      "cell_type": "markdown",
      "source": [],
      "metadata": {
        "id": "9IWxh3e_gJW-"
      }
    },
    {
      "cell_type": "markdown",
      "source": [
        "## ✏️ *Activity 1: Write Down Your OCR Workflow*  \n",
        "\n",
        "\n",
        "- Identify a dataset (images of text)\n",
        "that you might use in your research​.\n",
        "\n",
        "- Write the steps to obtained encoded\n",
        "text from your dataset.​\n",
        "\n",
        "- Identify potential source of errors or\n",
        "issues in each step, and discuss how\n",
        "you might address them.​\n",
        "\n",
        "- Share your dataset, workflow, and\n",
        "plan with your small group.​\n",
        "\n",
        "\n",
        "\n"
      ],
      "metadata": {
        "id": "7Wcz0_MXQ4kV"
      }
    },
    {
      "cell_type": "markdown",
      "source": [
        "# **Implementation of LDA**\n",
        "\n",
        "- Loading data\n",
        "- Data cleaning\n",
        "- Exploratory analysis\n",
        "- Prepare data for LDA analysis\n",
        "- LDA model training\n",
        "- Analyzing LDA model results\n"
      ],
      "metadata": {
        "id": "xbsjNGskfWhJ"
      }
    },
    {
      "cell_type": "markdown",
      "source": [],
      "metadata": {
        "id": "W8TMNVHng_ZF"
      }
    },
    {
      "cell_type": "markdown",
      "source": [
        "\n",
        "\n",
        "---\n",
        "\n"
      ],
      "metadata": {
        "id": "pqsuWVz9gy6Y"
      }
    },
    {
      "cell_type": "markdown",
      "source": [
        "> 👋 New to Google Colab and Python? No worries! Let's get you started by running the code snippet below to make sure everything is working properly for you. It's a great way to take your first steps into coding!"
      ],
      "metadata": {
        "id": "yjBHVUNPnb7B"
      }
    },
    {
      "cell_type": "code",
      "source": [
        "print(\"Enter your name and press enter:\")\n",
        "name = input()\n",
        "print(\"\\r\")\n",
        "print(\"Hello {}, welcome to the Topic Modelling with LDA!\".format(name))"
      ],
      "metadata": {
        "id": "wsGtYVH4hFg-"
      },
      "execution_count": null,
      "outputs": []
    },
    {
      "cell_type": "markdown",
      "source": [
        "# Import Python libriary"
      ],
      "metadata": {
        "id": "FR20mbyog1ms"
      }
    },
    {
      "cell_type": "code",
      "source": [
        "!pip install pytesseract"
      ],
      "metadata": {
        "id": "Yiw2ia_hhBHZ"
      },
      "execution_count": null,
      "outputs": []
    },
    {
      "cell_type": "markdown",
      "source": [
        "# Loading data\n",
        "\n",
        "Selecting good quality data to start with means that you don’t need to edit and process your image too much from the beginning. Key considerations include:\n",
        "\n",
        "\n",
        "\n",
        "\n",
        "\n"
      ],
      "metadata": {
        "id": "C-jD-ZQnTcLe"
      }
    },
    {
      "cell_type": "code",
      "source": [
        "# Importing modules\n",
        "import pandas as pd\n",
        "import os\n",
        "os.chdir('..')\n",
        "# Read data into papers\n",
        "papers = pd.read_csv('./data/NIPS Papers/papers.csv')\n",
        "# Print head\n",
        "papers.head()"
      ],
      "metadata": {
        "id": "vEf8Gb-wg8ew"
      },
      "execution_count": null,
      "outputs": []
    },
    {
      "cell_type": "markdown",
      "source": [
        "# **Data Cleaning**"
      ],
      "metadata": {
        "id": "mvutqiSaQMc_"
      }
    },
    {
      "cell_type": "code",
      "source": [],
      "metadata": {
        "id": "aVOhXJxdglSx"
      },
      "execution_count": null,
      "outputs": []
    },
    {
      "cell_type": "markdown",
      "source": [
        "\n",
        "\n",
        "---\n",
        "\n"
      ],
      "metadata": {
        "id": "-RhfmjXtOz8X"
      }
    },
    {
      "cell_type": "markdown",
      "source": [
        "# **Resources List**\n",
        "\n",
        "**Tutorials**\n",
        "\n",
        "\n",
        "\n",
        "**Readings**\n",
        "\n"
      ],
      "metadata": {
        "id": "Jh1bgAvnxJwx"
      }
    }
  ]
}